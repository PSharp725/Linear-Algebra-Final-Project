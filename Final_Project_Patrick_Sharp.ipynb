{
 "cells": [
  {
   "attachments": {},
   "cell_type": "markdown",
   "metadata": {
    "id": "OvsIpputCaE5"
   },
   "source": [
    "# Final Project - Matrix Factorization & Principal Component Analysis\n",
    "## CSPB 2820 -  Linear Algebra with Computer Science Applications\n",
    "*Name*: Patrick Sharp\n",
    "\n",
    "Submit only this Jupyter notebook with the name format `Final_Project_<yourname>.ipynb`. Do not compress it using tar, rar, zip, etc. You must test this notebook in Jupyter Lab.\n",
    "Your solutions to analysis questions should be written directly below the associated question. You can add a write-up markdown cell or an extra Python cell if it wasn't provided.\n",
    "\n",
    "All the written code must be commented as shown in this link https://realpython.com/python-comments-guide/ \n",
    "\n",
    "Remember that you are encouraged to discuss the problems with your classmates and instructors, \n",
    "but *you must write all code and solutions on your own*, and list any people or sources consulted."
   ]
  },
  {
   "cell_type": "code",
   "execution_count": 3,
   "metadata": {},
   "outputs": [],
   "source": [
    "import numpy as np\n",
    "import tests"
   ]
  },
  {
   "cell_type": "markdown",
   "metadata": {},
   "source": [
    "## Elementary Review"
   ]
  },
  {
   "cell_type": "code",
   "execution_count": 4,
   "metadata": {},
   "outputs": [
    {
     "name": "stdout",
     "output_type": "stream",
     "text": [
      "[[ 0  1  2  3  4]\n",
      " [ 5  6  7  8  9]\n",
      " [10 11 12 13 14]]\n",
      "[[ 0  1  2]\n",
      " [ 3  4  5]\n",
      " [ 6  7  8]\n",
      " [ 9 10 11]\n",
      " [12 13 14]]\n"
     ]
    }
   ],
   "source": [
    "a = np.arange(15).reshape(3, 5)\n",
    "print(a)\n",
    "b = np.arange(15).reshape(5, 3)\n",
    "print(b)"
   ]
  },
  {
   "cell_type": "markdown",
   "metadata": {
    "id": "bJJPj-JAD1Pd"
   },
   "source": [
    "## Dot product of two arrays can be calculated using the numpy.dot() function from the numpy library"
   ]
  },
  {
   "cell_type": "code",
   "execution_count": 5,
   "metadata": {
    "colab": {
     "base_uri": "https://localhost:8080/"
    },
    "id": "nv_LIa3gDrG8",
    "outputId": "6531506f-f3c5-410c-9072-3f0f94ae7f2f"
   },
   "outputs": [
    {
     "name": "stdout",
     "output_type": "stream",
     "text": [
      "[[ 90 100 110]\n",
      " [240 275 310]\n",
      " [390 450 510]]\n"
     ]
    }
   ],
   "source": [
    "print(np.dot(a,b))"
   ]
  },
  {
   "cell_type": "markdown",
   "metadata": {
    "id": "VJtxyULwD8Q9"
   },
   "source": [
    "# Problem 1 : What is a Matrix Factorization? [30 points]\n",
    "\n",
    "A matrix factorization is a way of reducing a matrix into its constituent parts.\n",
    "\n",
    "It is an approach that can simplify more complex matrix operations that can be performed on the factorized matrix rather than on the original matrix itself.\n",
    "\n",
    "NOTE: You can choose to implement any one of the two matrix factorization method (LU and Cholesky) and gain 7 marks each. QR Matrix Factorization and Singular-Value Decomposition are complusory."
   ]
  },
  {
   "cell_type": "markdown",
   "metadata": {
    "id": "0XM0XEbiERKf"
   },
   "source": [
    "# 1.1 : LU Matrix Factorization\n",
    "\n",
    "\n",
    "\n",
    "\n",
    "    The LU Factorization is for square matrices and Factorizes a matrix into L and U components.\n",
    "\n",
    "**A = L.U or LU**\n",
    "\n",
    "    Where A is the square matrix that we wish to Factorize, L is the lower triangle matrix and U is the upper triangle matrix.\n",
    "\n",
    "## LU Factorization with partial pivoting**\n",
    "\n",
    "    A variation of the LU Factorization that is numerically more stable to solve in practice.\n",
    "\n",
    "**A = P . L . U**\n",
    "\n",
    "    The rows of the parent matrix are re-ordered to simplify the Factorization process and the additional P matrix specifies a way to permute the result or return the result to the original order."
   ]
  },
  {
   "cell_type": "markdown",
   "metadata": {
    "id": "tyAR58CXET4K"
   },
   "source": [
    "Please refer to https://en.wikipedia.org/wiki/LU_decomposition for more details."
   ]
  },
  {
   "cell_type": "code",
   "execution_count": 7,
   "metadata": {},
   "outputs": [],
   "source": [
    "from numpy import array\n",
    "from scipy.linalg import lu"
   ]
  },
  {
   "cell_type": "code",
   "execution_count": 8,
   "metadata": {
    "colab": {
     "base_uri": "https://localhost:8080/"
    },
    "id": "l6ZnChu8EOvq",
    "outputId": "04f294bf-7a07-4cc5-d70a-63749ca546bf"
   },
   "outputs": [
    {
     "name": "stdout",
     "output_type": "stream",
     "text": [
      "[[1 2 3]\n",
      " [4 5 6]\n",
      " [7 8 9]]\n",
      "[[0. 1. 0.]\n",
      " [0. 0. 1.]\n",
      " [1. 0. 0.]]\n",
      "[[1.         0.         0.        ]\n",
      " [0.14285714 1.         0.        ]\n",
      " [0.57142857 0.5        1.        ]]\n",
      "[[7.         8.         9.        ]\n",
      " [0.         0.85714286 1.71428571]\n",
      " [0.         0.         0.        ]]\n",
      "[[1. 2. 3.]\n",
      " [4. 5. 6.]\n",
      " [7. 8. 9.]]\n"
     ]
    }
   ],
   "source": [
    "# define a square matrix\n",
    "A = array([[1, 2, 3], [4, 5, 6], [7, 8, 9]])\n",
    "print(A)\n",
    "\n",
    "# LU decomposition\n",
    "P, L, U = lu(A)\n",
    "print(P)\n",
    "print(L)\n",
    "print(U)\n",
    "\n",
    "# reconstruct\n",
    "B = P.dot(L).dot(U)\n",
    "print(B)"
   ]
  },
  {
   "cell_type": "markdown",
   "metadata": {
    "id": "5e3tS8xt_PN7"
   },
   "source": [
    "### Question 1 : Will the LU factorization without Pivoting work on both square and non-square matrices ? Explain with reasons. [2 points]\n",
    "\n",
    "### Answer :  LU factorization can work for square matrices, but not non-square matrices. The reason it does not work for non-square matrices is that the elimination process may encounter a situation where it needs to divide by zero or perform operations that lead to inconsistencies due to the mismatch in the number of rows and columns. This makes LU factorization without pivoting unsuitable for non-square matrices.\n",
    "\n"
   ]
  },
  {
   "cell_type": "markdown",
   "metadata": {
    "id": "4TxD--JGIgwb"
   },
   "source": [
    "Please refer to https://docs.scipy.org/doc/scipy/reference/generated/scipy.linalg.lu.html for more information on the LU library used above."
   ]
  },
  {
   "cell_type": "markdown",
   "metadata": {
    "id": "FYBcg_AjJJ1l"
   },
   "source": [
    "## Implement the LU factorization methodology from scratch and test it using the same example as above.\n",
    "  \n",
    "\n",
    "##   [1.11] Complete the Matrix_multiplication function. [2 Point]\n",
    "##   [1.12] Complete the Pivot_Calculation function. [2 Point]\n",
    "##   [1.13] Complete the LU_Factorizer function. [4 Points]\n",
    "\n"
   ]
  },
  {
   "cell_type": "code",
   "execution_count": 54,
   "metadata": {
    "id": "IzZMmqDjIOkU"
   },
   "outputs": [],
   "source": [
    "class LU_Factorization:\n",
    "\n",
    "    def __init__(self, matrix = None):\n",
    "        \"\"\"\n",
    "        Create a LU Factorizer\n",
    "        :param matrix: Matrix that needs to be factorized\n",
    "\n",
    "        \"\"\"\n",
    "\n",
    "        self.matrix = matrix \n",
    "\n",
    "    def Matrix_Multiplication(self, X, Y):\n",
    "        \"\"\"\n",
    "        Create a function to multiply 2 square matrices of same shape\n",
    "        :param X and Y: 2 matrices of shape (m,n) respectively that are to be multiplied.\n",
    "        :return: Matrix of shape (m,m)\n",
    "        \"\"\"\n",
    "\n",
    "        # Workspace 1.11\n",
    "        # TO DO: Complete this function to return the multiplied matrix.\n",
    "        #BEGIN \n",
    "        X_m_rows = len(X)   # number of rows in matrix X\n",
    "        X_m_cols = len(X[0]) # number of cols in matrix X\n",
    "\n",
    "        Y_m_rows = len(Y)  # number of rows in matrix Y\n",
    "        Y_m_cols = len(Y[0]) # number of cols in matrix X\n",
    "        \n",
    "        # Check to see if the dimension are fit for matrix multiplication\n",
    "        if X_m_cols != Y_m_rows: return None\n",
    "        \n",
    "        # Check to see if the matrices are square and of the same size\n",
    "        if X_m_cols != X_m_rows or Y_m_cols != Y_m_rows or X_m_cols != Y_m_cols or X_m_rows != Y_m_rows:\n",
    "            print('the matrices are not square and the same shape')\n",
    "            return None\n",
    "\n",
    "        # initialize the return matrix of size m x m\n",
    "        return_matrix = np.zeros(X_m_rows*Y_m_cols).reshape(X_m_rows,Y_m_cols)\n",
    "\n",
    "        # n^3 complexity loop for matrix multiplication\n",
    "        for i in range(X_m_rows):    # Row of X being multiplied\n",
    "            for j in range(Y_m_cols): # Col of Y being multiplied\n",
    "                for k in range(X_m_rows): # element from each for the product to be summed (inner product)\n",
    "                    return_matrix[i][j] += X[i][k] * Y[k][j] \n",
    "\n",
    "        return return_matrix\n",
    "        # End\n",
    "\n",
    "    def Pivot_Calculation(self):\n",
    "        \"\"\"\n",
    "        Create a function to calculate the pivoting matrix for the given LU_Factorization object.\n",
    "        :return: Matrix of shape (m,n)\n",
    "        \"\"\"\n",
    "\n",
    "        # Workspace 1.12\n",
    "        # TO DO: Complete this function to return the Pivot matrix.\n",
    "        #BEGIN \n",
    "        n = len(self.matrix) # find the number of rows in the matrix\n",
    "        A = self.matrix.copy()\n",
    "        \n",
    "        # build the identity matrix for the pivot matrix\n",
    "        P = np.eye(n)\n",
    "                    \n",
    "                    \n",
    "        for j in range(n):\n",
    "            max_index = j\n",
    "            for i in range(j,n):\n",
    "                if A[i][j] > A[max_index][j]:\n",
    "                    max_index = i\n",
    "            temp = P[j].copy()\n",
    "            P[j] = P[max_index ]\n",
    "            P[max_index ] = temp\n",
    "            temp = A[j].copy()\n",
    "            A[j] = A[max_index ]\n",
    "            A[max_index ] = temp\n",
    "        \n",
    "        '''\n",
    "        # Row swap for the pivot\n",
    "        for j in range(n-1):\n",
    "            if abs(A[j][j]) < abs(A[j+1][j]):\n",
    "                temp = P[j].copy()\n",
    "                P[j] = P[j+1]\n",
    "                P[j+1] = temp\n",
    "                temp = A[j].copy()\n",
    "                A[j] = A[j+1]\n",
    "                A[j+1] = temp\n",
    "        '''\n",
    "                \n",
    "        return P\n",
    "        # End\n",
    "\n",
    "    def LU_Factorizer(self):\n",
    "        \"\"\"\n",
    "        Create a function to factorize matrix for the given LU_Factorization object.\n",
    "        :return: Return the Matrices P, L and U.\n",
    "        \"\"\"\n",
    "\n",
    "        # Workspace 1.12\n",
    "        # TO DO: Complete this function to return the P, L and U matrices.\n",
    "        #BEGIN \n",
    "        #P = self.Pivot_Calculation() # Use the pivot_calculation function above to get P\n",
    "        \n",
    "        \n",
    "        n = len(self.matrix)\n",
    "        U = self.matrix.copy()\n",
    "        P = np.eye(n)\n",
    "        L = np.eye(n)\n",
    "        \n",
    "        # Row exchange\n",
    "        for j in range(n):\n",
    "            max_index = j\n",
    "            for i in range(j,n):\n",
    "                if U[i][j] > U[max_index][j]:\n",
    "                    max_index = i\n",
    "            temp = P[j].copy()\n",
    "            P[j] = P[max_index]\n",
    "            P[max_index ] = temp\n",
    "            temp = U[j].copy()\n",
    "            U[j] = U[max_index]\n",
    "            U[max_index] = temp\n",
    "        \n",
    "        \n",
    "        \n",
    "\n",
    "        return (P,L,U)\n",
    "        # End\n"
   ]
  },
  {
   "cell_type": "code",
   "execution_count": 55,
   "metadata": {},
   "outputs": [
    {
     "name": "stdout",
     "output_type": "stream",
     "text": [
      "Question 1.11: [PASS]\n",
      "Question 1.12: [FAIL] Testing LU Factorization Pivot Calculation\n",
      " Matrix:[[1 2 3]\n",
      " [4 5 6]\n",
      " [7 8 9]]\n",
      " expected output:BBBB [[0. 1. 0.]\n",
      " [0. 0. 1.]\n",
      " [1. 0. 0.]]\n",
      " obtained: [[0. 0. 1.]\n",
      " [0. 1. 0.]\n",
      " [1. 0. 0.]]\n",
      "Question 1.13: [FAIL] Testing LU Factorization LU Factorizer\n",
      " Matrix:[[1 2 3]\n",
      " [4 5 6]\n",
      " [7 8 9]]\n",
      " expected output: \n",
      " P[[0. 1. 0.]\n",
      " [0. 0. 1.]\n",
      " [1. 0. 0.]]\n",
      " L[[1.         0.         0.        ]\n",
      " [0.14285714 1.         0.        ]\n",
      " [0.57142857 0.5        1.        ]]\n",
      " U[[7.         8.         9.        ]\n",
      " [0.         0.85714286 1.71428571]\n",
      " [0.         0.         0.        ]]\n",
      " obtained: \n",
      " P[[0. 0. 1.]\n",
      " [0. 1. 0.]\n",
      " [1. 0. 0.]]\n",
      " L[[-0.3333333333333333, 1.3333333333333333, inf], [-0.3333333333333333, 1.3333333333333333, inf], [-0.3333333333333333, 1.3333333333333333, inf]]\n",
      " U[[-3.0, 2.0, 0.0], [-3.0, 2.0, 0.0], [-3.0, 2.0, 0.0]]\n"
     ]
    },
    {
     "name": "stderr",
     "output_type": "stream",
     "text": [
      "C:\\Users\\Patri\\AppData\\Local\\Temp\\ipykernel_35820\\1171103818.py:136: RuntimeWarning: divide by zero encountered in scalar divide\n",
      "  L[i][j] = (PA[i][j] - s2) / U[j][j]\n"
     ]
    }
   ],
   "source": [
    "tests.testLU(LU_Factorization)"
   ]
  },
  {
   "cell_type": "markdown",
   "metadata": {
    "id": "BN3zzNqJQXvV"
   },
   "source": [
    "# 1.2 : QR Matrix Factorization\n",
    "\n",
    "\n",
    "    The QR Factorization is for m x n matrices (not limited to square matrices) and decomposes a matrix into Q and R components.\n",
    "\n",
    "**A = Q . R or QR**\n",
    "\n",
    "    Where A is the matrix that we wish to Factorize, Q a matrix with the size m x m, and R is an upper triangle matrix with the size m x n.\n",
    "\n",
    "Please refer to https://en.wikipedia.org/wiki/QR_decomposition for more details."
   ]
  },
  {
   "cell_type": "code",
   "execution_count": null,
   "metadata": {},
   "outputs": [],
   "source": [
    "from numpy import array\n",
    "from scipy.linalg import qr"
   ]
  },
  {
   "cell_type": "code",
   "execution_count": null,
   "metadata": {
    "colab": {
     "base_uri": "https://localhost:8080/"
    },
    "id": "RaiTJfMeQYX3",
    "outputId": "d8906bae-3d26-4e28-98a1-77589de48bef"
   },
   "outputs": [],
   "source": [
    "# QR decomposition\n",
    "# define a 3x2 matrix\n",
    "A = array([[60, 91, 26], [60, 3, 75], [45, 90, 31]])\n",
    "D = np.diag(np.sign(np.diag(A)))\n",
    "print(A)\n",
    "\n",
    "# QR decomposition\n",
    "Q_intermediate, R_intermediate = qr(A)\n",
    "Q_diagonal = np.diag(np.sign(np.diag(Q_intermediate)))\n",
    "Q = np.matmul(Q_intermediate, Q_diagonal)\n",
    "R = np.matmul(Q_diagonal,R_intermediate)\n",
    "\n",
    "print(Q)\n",
    "print(R)"
   ]
  },
  {
   "cell_type": "markdown",
   "metadata": {
    "id": "L1p4zvm9QurI"
   },
   "source": [
    "Please refer to https://docs.scipy.org/doc/scipy/reference/generated/scipy.linalg.qr.html for more information on the QR library used above."
   ]
  },
  {
   "cell_type": "markdown",
   "metadata": {
    "id": "N8gMEPBqbR_u"
   },
   "source": [
    "## Please implement the QR factorization methodology from scratch and test it using the same example as above.\n",
    "  \n",
    "\n",
    "##   [1.21] Complete the Norm_Calculation function. [6 Points]\n",
    "##   [1.22] Complete the Matrix_Multiplication function. [8 Points]\n",
    "##   [1.23] Complete the QR_Factorizer function. [24 Points]\n",
    "\n",
    "          Note - Do not implement the code given in the VMLS Python Companion book from Chapter 10 as it is.\n",
    "          Hint - Make use of the 1.21 and 1.22 functions.\n"
   ]
  },
  {
   "cell_type": "code",
   "execution_count": null,
   "metadata": {
    "id": "GWNGNeIHYXRr"
   },
   "outputs": [],
   "source": [
    "class QR_Factorization:\n",
    "\n",
    "    def __init__(self, matrix = None):\n",
    "        \"\"\"\n",
    "        Create a QR Factorizer\n",
    "        :param matrix: Matrix that needs to be factorized\n",
    "\n",
    "        \"\"\"\n",
    "\n",
    "        self.matrix = matrix \n",
    "\n",
    "    def Norm_Calculation(self,A):\n",
    "        \"\"\"\n",
    "        Create a function to calculate the Euclidean norm of a matrix.\n",
    "        :param A: Matrix for which norm is to be calculated.\n",
    "        :return: Return a floating point Norm value.\n",
    "        \"\"\"\n",
    "\n",
    "        # Workspace 1.21\n",
    "        # TO DO: Complete this function to return the Norm of a matrix.\n",
    "        #BEGIN \n",
    "        m = len(A)\n",
    "        n = len(A[0])\n",
    "        \n",
    "        \n",
    "                \n",
    "        # End\n",
    "\n",
    "    def Matrix_Multiplication(self, X, Y):\n",
    "        \"\"\"\n",
    "        Create a function to multiply 2 square matrices of same shape\n",
    "        :param X and Y: 2 matrices of shape (m,n) respectively that are to be multiplied.\n",
    "        :return: Matrix of shape (m,m)\n",
    "        \"\"\"\n",
    "\n",
    "        # Workspace 1.22\n",
    "        # TO DO: Complete this function to return the multiplied matrix.\n",
    "        #BEGIN \n",
    "        \n",
    "        m = len(X)\n",
    "        n = len(Y[0])\n",
    "        \n",
    "        # Check to see if the dimension are fit for matrix multiplication\n",
    "        if len(X[0]) != len(Y): return None\n",
    "        \n",
    "        return_matrix = np.zeros(m * n).reshape(m,n)\n",
    "        \n",
    "        \n",
    "        \n",
    "        # End\n",
    "\n",
    "    def QR_Factorizer(self):\n",
    "        \"\"\"\n",
    "        Create a function to factorize matrix for the given QR_Factorization object using Gram Schmidt Process.\n",
    "        :return: Return the Matrices Q and R.\n",
    "        \"\"\"\n",
    "\n",
    "        # Workspace 1.23\n",
    "        # TO DO: Complete this function to return the Q and R matrices.\n",
    "        #BEGIN \n",
    "        # code here\n",
    "        \n",
    "        # End\n"
   ]
  },
  {
   "cell_type": "code",
   "execution_count": null,
   "metadata": {},
   "outputs": [],
   "source": [
    "tests.testQR(QR_Factorization)"
   ]
  },
  {
   "cell_type": "markdown",
   "metadata": {
    "id": "fnE9Odvn_t6d"
   },
   "source": [
    "### Question 2 : Will the code you have written work on both square and non square matrices ? [2 points]\n",
    "\n",
    "### Answer :"
   ]
  },
  {
   "cell_type": "markdown",
   "metadata": {
    "id": "AmWFxuh8hsF8"
   },
   "source": [
    "# 1.3 : Cholesky Matrix Factorization \n",
    "\n",
    "\n",
    "    The Cholesky Factorization is for square symmetric matrices where all eigenvalues are greater than zero, so-called positive definite matrices.\n",
    "\n",
    "**A = L . L^T**\n",
    "\n",
    "     Where A is the matrix being Factorized, L is the lower triangular matrix and L^T is the transpose of L.\n",
    "\n",
    "**A = U^T . U**\n",
    "\n",
    "    Where U is the upper triangular matrix.\n"
   ]
  },
  {
   "cell_type": "markdown",
   "metadata": {
    "id": "Zo106y3aiJfI"
   },
   "source": [
    "Please refer to the https://en.wikipedia.org/wiki/Cholesky_decomposition for more details."
   ]
  },
  {
   "cell_type": "code",
   "execution_count": null,
   "metadata": {},
   "outputs": [],
   "source": [
    "from numpy import array\n",
    "from scipy.linalg import cholesky"
   ]
  },
  {
   "cell_type": "code",
   "execution_count": null,
   "metadata": {
    "colab": {
     "base_uri": "https://localhost:8080/"
    },
    "id": "Xe0RLkZXkPry",
    "outputId": "7a051700-0884-44f8-d1c9-8d723a6b1f58"
   },
   "outputs": [],
   "source": [
    "# Cholesky factorization\n",
    "# define a 3x3 matrix\n",
    "A = array([[2, 1, 1], [1, 2, 1], [1, 1, 2]])\n",
    "print(A)\n",
    "\n",
    "L = cholesky(A)\n",
    "print(L)"
   ]
  },
  {
   "cell_type": "markdown",
   "metadata": {
    "id": "HVOqlVvpATqG"
   },
   "source": [
    "### Question 3 : Provide examples for Cholesky Factorization using both Upper Triangular and Lower Triangualar matrices. [2 points]\n",
    "\n",
    "### Answer :"
   ]
  },
  {
   "cell_type": "markdown",
   "metadata": {
    "id": "hHAa3XUboKUL"
   },
   "source": [
    "Please refer to https://docs.scipy.org/doc/scipy/reference/generated/scipy.linalg.cholesky.html for more information on the Cholesky library used above."
   ]
  },
  {
   "cell_type": "markdown",
   "metadata": {
    "id": "fxxIBoxEipe5"
   },
   "source": [
    "## Please implement the Cholesky factorization methodology from scratch and test it using the same example as above.\n",
    "  \n",
    "\n",
    "##  [1.3] Complete the Cholesky_Factorizer. [4 Points]\n",
    "\n",
    "          Note - Do not implement the code given in the VMLS Python Companion book as it is.\n",
    "          Hint - Make use of the 1.21 and 1.22 functions."
   ]
  },
  {
   "cell_type": "code",
   "execution_count": null,
   "metadata": {
    "id": "VnSaU3LDkqAK"
   },
   "outputs": [],
   "source": [
    "class Cholesky_Factorization:\n",
    "\n",
    "    def __init__(self, matrix = None):\n",
    "        \"\"\"\n",
    "        Create a Cholesky Factorizer\n",
    "        :param matrix: Matrix that needs to be factorized\n",
    "\n",
    "        \"\"\"\n",
    "\n",
    "        self.matrix = matrix \n",
    "\n",
    "\n",
    "    def Cholesky_Factorizer(self):\n",
    "        \"\"\"\n",
    "        Create a function to factorize matrix for the given Cholesky_Factorization object.\n",
    "        :return: Return the Matrix L or U.\n",
    "        \"\"\"\n",
    "\n",
    "        # Workspace 1.31\n",
    "        # TO DO: Complete this function to return the Q and R matrices.\n",
    "        #BEGIN \n",
    "        # code here\n",
    "\n",
    "        # End"
   ]
  },
  {
   "cell_type": "code",
   "execution_count": null,
   "metadata": {},
   "outputs": [],
   "source": [
    "tests.testCholesky(Cholesky_Factorization)"
   ]
  },
  {
   "cell_type": "markdown",
   "metadata": {
    "id": "A8BHs7wymweA"
   },
   "source": [
    "# 1.4 : Singular-Value Decomposition\n",
    "\n",
    "    The Singular-Value Decomposition, or SVD for short, is a matrix decomposition method for reducing a matrix to its constituent parts in order to make certain subsequent matrix calculations simpler.\n",
    "\n",
    "    For the case of simplicity we will focus on the SVD for real-valued matrices and ignore the case for complex numbers.\n",
    "\n",
    "**A = U . Sigma . V^T**\n",
    "\n",
    "    Where A is the real m x n matrix that we wish to decompose, U is an m x m matrix, Sigma (often represented by the uppercase Greek letter Sigma) is an m x n diagonal matrix, and V^T is the  transpose of an n x n matrix where T is a superscript.\n",
    "\n",
    "    The diagonal values in the Sigma matrix are known as the singular values of the original matrix A. The columns of the U matrix are called the left-singular vectors of A, and the columns of V are called the right-singular vectors of A.\n"
   ]
  },
  {
   "cell_type": "markdown",
   "metadata": {
    "id": "XQ4sb4DuAiFN"
   },
   "source": [
    "### Question 4 : Explain how we can find Pseudo inverse of a matrix using SVD. [4 points]\n",
    "\n",
    "### Answer :"
   ]
  },
  {
   "cell_type": "markdown",
   "metadata": {
    "id": "0LAo8UpvnH57"
   },
   "source": [
    "Please refer to the https://en.wikipedia.org/wiki/Singular_value_decomposition for more details."
   ]
  },
  {
   "cell_type": "code",
   "execution_count": null,
   "metadata": {},
   "outputs": [],
   "source": [
    "from numpy import array\n",
    "from scipy.linalg import svd"
   ]
  },
  {
   "cell_type": "code",
   "execution_count": null,
   "metadata": {
    "colab": {
     "base_uri": "https://localhost:8080/"
    },
    "id": "dQhrZxOAmKaZ",
    "outputId": "fe5b6c35-173a-4f38-eee3-e7054535eaec"
   },
   "outputs": [],
   "source": [
    "# Singular-value decomposition\n",
    "# define a matrix\n",
    "A = array([[1, 2], [3, 4], [5, 6]])\n",
    "print(A)\n",
    "\n",
    "# SVD\n",
    "U, s, VT = svd(A)\n",
    "print(U)\n",
    "print(s)\n",
    "print(VT)"
   ]
  },
  {
   "cell_type": "markdown",
   "metadata": {
    "id": "tchaT7aNqFhq"
   },
   "source": [
    "##   [1.4] Using the above U, s and VT matrices, construct the original A matrix.[10 Points]"
   ]
  },
  {
   "cell_type": "code",
   "execution_count": null,
   "metadata": {
    "id": "fVUAVjVA1Pyd"
   },
   "outputs": [],
   "source": [
    "# Workspace 1.41\n",
    "#BEGIN \n",
    "# code here\n",
    "class SVD:\n",
    "\n",
    "    def __init__(self, U=None, Sigma=None, VT=None, shape=None):\n",
    "        \"\"\"\n",
    "        Create a Cholesky Factorizer\n",
    "        \"\"\"\n",
    "\n",
    "        self.U = U \n",
    "        self.Sigma = Sigma\n",
    "        self.VT = VT\n",
    "        self.shape = [3,2]\n",
    "\n",
    "    def Reconstruct_SVD(self):\n",
    "        \"\"\"\n",
    "        Create a function to reconstruct the original matrix using the 3 matrices generated by SVD.\n",
    "        :return: Return the Original Matrix.\n",
    "        \"\"\"\n",
    "\n",
    "        # Workspace 1.41\n",
    "        # TO DO: Complete this function to return the original matrix.\n",
    "        #BEGIN \n",
    "        # code here\n",
    "     \n",
    "        # End\n",
    "\n",
    "\n",
    "#END"
   ]
  },
  {
   "cell_type": "code",
   "execution_count": null,
   "metadata": {},
   "outputs": [],
   "source": [
    "tests.testSVD(SVD)"
   ]
  },
  {
   "cell_type": "markdown",
   "metadata": {
    "id": "10gf6ebZB_Ws"
   },
   "source": [
    "# Introduction to Eigenvectors and Eigenvalues\n",
    "\n",
    "An eigenvector of a matrix \\(A\\) is a vector that when multiplied by \\(A\\) returns a vector which is ascalar multiple of itself, i.e.,\n",
    "\n",
    "\\(Av\\)=\\(lambda v\\)\n",
    "\n",
    "Here, \\(v\\) is called the eigenvector of \\(A\\), and \\(lambda\\) is the scalar coefficient, which is called the eigenvalue."
   ]
  },
  {
   "cell_type": "code",
   "execution_count": null,
   "metadata": {
    "colab": {
     "base_uri": "https://localhost:8080/"
    },
    "id": "hCk_vrgTCFhF",
    "outputId": "3c045fc2-e83c-4da9-9f1a-a8e3748fa68c"
   },
   "outputs": [],
   "source": [
    "A=array([[2, 1, 1], [1, 2, 1], [1, 1, 2]])\n",
    "print(np.linalg.eig(A))"
   ]
  },
  {
   "cell_type": "markdown",
   "metadata": {
    "id": "g0YwP52UIILw"
   },
   "source": [
    "Please refer to https://en.wikipedia.org/wiki/Eigenvalues_and_eigenvectors , https://medium.com/sho-jp/linear-algebra-part-6-eigenvalues-and-eigenvectors-35365dc4365a for more details"
   ]
  },
  {
   "cell_type": "markdown",
   "metadata": {
    "id": "H2LTZ4goCIkz"
   },
   "source": [
    "# Covariance of a Matrix \n",
    "\n",
    "Covariance provides the a measure of strength of correlation between two variable or more set of variables. The covariance matrix element Cij is the covariance of xi and xj. The element Cii is the variance of xi. \n",
    "\n",
    "    If COV(xi, xj) = 0 then variables are uncorrelated\n",
    "    If COV(xi, xj) > 0 then variables positively correlated\n",
    "    If COV(xi, xj) < 0 then variables negatively correlated"
   ]
  },
  {
   "cell_type": "code",
   "execution_count": null,
   "metadata": {},
   "outputs": [],
   "source": [
    "import numpy as np"
   ]
  },
  {
   "cell_type": "code",
   "execution_count": null,
   "metadata": {},
   "outputs": [],
   "source": [
    "x = np.array([[0, 3, 4], [1, 2, 4], [3, 4, 5]])\n",
    " \n",
    "print(\"Shape of array:\\n\", np.shape(x))\n",
    " \n",
    "print(\"Covariance matrix of x:\\n\", np.cov(x))"
   ]
  },
  {
   "cell_type": "markdown",
   "metadata": {
    "id": "c2mdvOCECT4-"
   },
   "source": [
    "### Question 5 : Explain the significance of Covariance in a Dataset. [4 points]\n",
    "\n",
    "\n",
    "### ANSWER :\n",
    "\n"
   ]
  },
  {
   "cell_type": "markdown",
   "metadata": {
    "id": "4XmftWU84mmq"
   },
   "source": [
    "# Principal Component Analysis\n",
    "\n",
    "Principal component analysis, or PCA, is a powerful tool which is used to analyze data sets and is formulated in the language of linear algebra and statistics. It is an eigenvalue method used to reduce the dimension of a data set while preserving important information.\n",
    "\n",
    "Please refer to https://en.wikipedia.org/wiki/Principal_component_analysis for more details."
   ]
  },
  {
   "cell_type": "code",
   "execution_count": null,
   "metadata": {},
   "outputs": [],
   "source": [
    "from sklearn.decomposition import PCA\n",
    "import numpy as np "
   ]
  },
  {
   "cell_type": "code",
   "execution_count": null,
   "metadata": {
    "colab": {
     "base_uri": "https://localhost:8080/"
    },
    "id": "0QbVxJuz0cgE",
    "outputId": "82b5ab8c-9a37-47ac-a5ca-7f6caeaf9d4f"
   },
   "outputs": [],
   "source": [
    "np.set_printoptions(precision=3)\n",
    "\n",
    "B = np.array([[1.0,2], [3,4], [5,6]])\n",
    "\n",
    "B1 = B.copy() \n",
    "B1 -= np.mean(B1, axis=0) \n",
    "n_samples = B1.shape[0]\n",
    "print(\"B1 is B after centering:\")\n",
    "print(B1)\n",
    "\n",
    "cov_mat = np.cov(B1.T)\n",
    "pca = PCA(n_components=2) \n",
    "X = pca.fit_transform(B1)\n",
    "print(\"X\")\n",
    "print(X)\n",
    "\n",
    "eigenvecmat =   []\n",
    "print(\"Eigenvectors:\")\n",
    "for eigenvector in pca.components_:\n",
    "    if eigenvecmat == []:\n",
    "        eigenvecmat = eigenvector\n",
    "    else:\n",
    "        eigenvecmat = np.vstack((eigenvecmat, eigenvector))\n",
    "    print(eigenvector)\n",
    "print(\"eigenvector-matrix\")\n",
    "print(eigenvecmat)\n",
    "\n",
    "print(\"CHECK FOR PCA:\")\n",
    "print(\"X * eigenvector-matrix (=B1)\")\n",
    "print(np.dot(X, eigenvecmat))"
   ]
  },
  {
   "cell_type": "markdown",
   "metadata": {
    "id": "J36sdYO79gpm"
   },
   "source": [
    "Please refer to https://scikit-learn.org/stable/modules/generated/sklearn.decomposition.PCA.html for more details on the PCA library used above."
   ]
  },
  {
   "cell_type": "markdown",
   "metadata": {
    "id": "i5rVKd1l8tnl"
   },
   "source": [
    "# Using PCA for Logistic Regression"
   ]
  },
  {
   "cell_type": "code",
   "execution_count": null,
   "metadata": {},
   "outputs": [],
   "source": [
    "import pandas as pd\n",
    "from sklearn.datasets import load_breast_cancer\n",
    "from sklearn.model_selection import train_test_split\n",
    "import sklearn.metrics as metric\n",
    "import statsmodels.api as sm"
   ]
  },
  {
   "cell_type": "code",
   "execution_count": null,
   "metadata": {
    "id": "ARXZHBzo8D52"
   },
   "outputs": [],
   "source": [
    "cancer = load_breast_cancer()\n",
    "\n",
    "data = pd.DataFrame(cancer['data'],columns=cancer['feature_names'])\n",
    "data['y'] = cancer['target']"
   ]
  },
  {
   "cell_type": "code",
   "execution_count": null,
   "metadata": {
    "id": "cNmBymTT7vZL"
   },
   "outputs": [],
   "source": [
    "group = [['mean symmetry', 'symmetry error','worst symmetry',\n",
    "'mean smoothness','smoothness error','worst smoothness']]"
   ]
  },
  {
   "cell_type": "code",
   "execution_count": null,
   "metadata": {
    "colab": {
     "base_uri": "https://localhost:8080/"
    },
    "id": "AEEjs80h77g4",
    "outputId": "41006cc9-b71b-472c-a652-4dc60796db6c"
   },
   "outputs": [],
   "source": [
    "for i,g in enumerate(group):\n",
    "\n",
    "    x = data[g]\n",
    "    x = sm.add_constant(x)\n",
    "    y = data['y']\n",
    "    x_train, x_test, y_train, y_test = train_test_split(x,y,test_size=0.3, \n",
    "                                                        random_state = 101)\n",
    "\n",
    "    model = sm.Logit(y_train,x_train).fit() #fit logistic regression model\n",
    "\n",
    "    predictions = np.around(model.predict(x_test))\n",
    "    accuracy = metric.accuracy_score(y_test,predictions)\n",
    "    \n",
    "    print(\"Accuracy of Group {}: {}\".format(i+1,accuracy))"
   ]
  },
  {
   "cell_type": "markdown",
   "metadata": {
    "id": "0bhrNYBP8xLC"
   },
   "source": [
    "## Use PCA on the above data and fit the data into a Logistic Regression Model. [18 points]"
   ]
  },
  {
   "cell_type": "code",
   "execution_count": null,
   "metadata": {},
   "outputs": [],
   "source": [
    "from sklearn import preprocessing"
   ]
  },
  {
   "cell_type": "code",
   "execution_count": null,
   "metadata": {},
   "outputs": [],
   "source": [
    "#Code Here"
   ]
  },
  {
   "cell_type": "markdown",
   "metadata": {
    "id": "Pq5UWkB_Ch0Q"
   },
   "source": [
    "### Question 6 : Was there any improvement on the performance of the Logistic Regression model after applying PCA on the data ? If so why ? [4 points]\n",
    "\n",
    "### Answer : "
   ]
  }
 ],
 "metadata": {
  "colab": {
   "collapsed_sections": [],
   "name": "LinearAlgebraProject.ipynb",
   "provenance": []
  },
  "kernelspec": {
   "display_name": "Python 3.11.7 64-bit",
   "language": "python",
   "name": "python3"
  },
  "language_info": {
   "codemirror_mode": {
    "name": "ipython",
    "version": 3
   },
   "file_extension": ".py",
   "mimetype": "text/x-python",
   "name": "python",
   "nbconvert_exporter": "python",
   "pygments_lexer": "ipython3",
   "version": "3.12.2"
  },
  "vscode": {
   "interpreter": {
    "hash": "b0fa6594d8f4cbf19f97940f81e996739fb7646882a419484c72d19e05852a7e"
   }
  }
 },
 "nbformat": 4,
 "nbformat_minor": 1
}
